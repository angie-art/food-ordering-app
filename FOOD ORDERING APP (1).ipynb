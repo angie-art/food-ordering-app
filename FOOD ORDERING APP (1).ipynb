{
 "cells": [
  {
   "cell_type": "code",
   "execution_count": 34,
   "id": "74ee9cde-1f1f-4d2c-a78a-bd696a17cef7",
   "metadata": {
    "editable": true,
    "slideshow": {
     "slide_type": ""
    },
    "tags": []
   },
   "outputs": [],
   "source": [
    "# PLEASE DO NOT MODIFY THIS CELL\n",
    "# RUN THIS CELL BEFORE YOU BEGIN\n",
    "\n",
    "import unittest\n",
    "from unittest.mock import patch"
   ]
  },
  {
   "cell_type": "code",
   "execution_count": 35,
   "id": "470f7503-075e-4a40-85c7-6841987c0aac",
   "metadata": {
    "editable": true,
    "slideshow": {
     "slide_type": ""
    },
    "tags": []
   },
   "outputs": [],
   "source": [
    "# PLEASE DO NOT MODIFY THIS CELL\n",
    "def display_menu():\n",
    "    \"\"\"\n",
    "    Description:  This function when called is to display the food menu and prices.\n",
    "    \"\"\"\n",
    "    #YOUR CODE HERE\n",
    "    print(\"Menu:\")\n",
    "    print(\"1. Pizza - 6500\")\n",
    "    print(\"2. Burger - 3000\")\n",
    "    print(\"3. Noodles - 1300\")\n",
    "    print(\"4. Exit Menu\")"
   ]
  },
  {
   "cell_type": "code",
   "execution_count": 36,
   "id": "97077b52-b5b0-4dcb-895a-b6dd504fd21c",
   "metadata": {
    "editable": true,
    "slideshow": {
     "slide_type": ""
    },
    "tags": []
   },
   "outputs": [
    {
     "name": "stdout",
     "output_type": "stream",
     "text": [
      "Menu:\n",
      "1. Pizza - 6500\n",
      "2. Burger - 3000\n",
      "3. Noodles - 1300\n",
      "4. Exit Menu\n"
     ]
    }
   ],
   "source": [
    "display_menu()"
   ]
  },
  {
   "cell_type": "code",
   "execution_count": 38,
   "id": "d01e5ee4-54ce-4e8c-8b43-1181a1f73267",
   "metadata": {
    "editable": true,
    "slideshow": {
     "slide_type": ""
    },
    "tags": []
   },
   "outputs": [
    {
     "name": "stdout",
     "output_type": "stream",
     "text": [
      "Invalid input. Please enter a valid number.\n",
      "Invalid choice. Please enter a number between 1 and 4.\n"
     ]
    }
   ],
   "source": [
    "# PLEASE DO NOT MODIFY THIS CELL\n",
    "class TestGetUserChoice(unittest.TestCase):\n",
    "    @patch('builtins.input', side_effect=['2'])\n",
    "    def test_valid_choice(self, mock_input):\n",
    "        result = get_user_choice()\n",
    "        self.assertEqual(result, 2)\n",
    "    @patch('builtins.input', side_effect=['invalid', '3'])\n",
    "    def test_invalid_then_valid_choice(self, mock_input):\n",
    "        result = get_user_choice()\n",
    "        self.assertEqual(result, 3)\n",
    "\n",
    "    @patch('builtins.input', side_effect=['5', '4'])\n",
    "    def test_invalid_then_exit_choice(self, mock_input):\n",
    "        result = get_user_choice()\n",
    "        self.assertIsNone(result)\n",
    "\n",
    "tester = TestGetUserChoice()\n",
    "tester.test_valid_choice()\n",
    "tester.test_invalid_then_valid_choice()\n",
    "tester.test_invalid_then_exit_choice()\n"
   ]
  },
  {
   "cell_type": "code",
   "execution_count": 40,
   "id": "7b9217c5-1d5f-414a-9fba-5f577646817f",
   "metadata": {
    "editable": true,
    "slideshow": {
     "slide_type": ""
    },
    "tags": []
   },
   "outputs": [],
   "source": [
    "def get_quantity():\n",
    "    \"\"\"\n",
    "    Description: Takes user input to get the quantity of the selected food item.\n",
    "                 Ensures the input is a positive integer.\n",
    "\n",
    "                 If the input is not an integer return the error \n",
    "                 'Invalid input. Please enter a valid number.' \n",
    "                 \n",
    "                 If the input is a negative integer or zero return the error\n",
    "                 'Quantity must be greater than 0.'\n",
    "    \"\"\"\n",
    "    while True:\n",
    "        try:\n",
    "            quantity = int(input(\"Enter quantity: \"))\n",
    "            if quantity > 0:\n",
    "                return quantity\n",
    "            else:\n",
    "                print(\"Quantity must be greater than 0.\")\n",
    "        except ValueError:\n",
    "            print(\"Invalid input. Please enter a valid number.\")\n"
   ]
  },
  {
   "cell_type": "code",
   "execution_count": 41,
   "id": "838928cd-b2e6-47d7-af01-07f3bd03544f",
   "metadata": {
    "editable": true,
    "slideshow": {
     "slide_type": ""
    },
    "tags": []
   },
   "outputs": [
    {
     "name": "stdout",
     "output_type": "stream",
     "text": [
      "Invalid input. Please enter a valid number.\n",
      "Quantity must be greater than 0.\n",
      "Quantity must be greater than 0.\n"
     ]
    }
   ],
   "source": [
    "# PLEASE DO NOT MODIFY THIS CELL\n",
    "class TestGetQuantity(unittest.TestCase):\n",
    "    @patch('builtins.input', side_effect=['3'])\n",
    "    def test_valid_quantity(self, mock_input):\n",
    "        result = get_quantity()\n",
    "        self.assertEqual(result, 3)\n",
    "\n",
    "    @patch('builtins.input', side_effect=['invalid', '5'])\n",
    "    def test_invalid_then_valid_quantity(self, mock_input):\n",
    "        result = get_quantity()\n",
    "        self.assertEqual(result, 5)\n",
    "\n",
    "    @patch('builtins.input', side_effect=['0', '-2', '4'])\n",
    "    def test_non_positive_then_valid_quantity(self, mock_input):\n",
    "        result = get_quantity()\n",
    "        self.assertEqual(result, 4)\n",
    "\n",
    "tester = TestGetQuantity()\n",
    "tester.test_valid_quantity()\n",
    "tester.test_invalid_then_valid_quantity()\n",
    "tester.test_non_positive_then_valid_quantity()\n"
   ]
  },
  {
   "cell_type": "code",
   "execution_count": 42,
   "id": "c8efb786-40bb-484d-bec4-2890b4809874",
   "metadata": {
    "editable": true,
    "slideshow": {
     "slide_type": ""
    },
    "tags": []
   },
   "outputs": [],
   "source": [
    "def get_item_name(choice):\n",
    "    \"\"\"\n",
    "    Description: Retrieves and returns the name of a food item \n",
    "    based on the user's choice number from the menu.\n",
    "    \"\"\"\n",
    "    # YOUR CODE HERE\n",
    "    item_names = {\n",
    "        1: \"Pizza\",\n",
    "        2: \"Burger\",\n",
    "        3: \"Noodles\"\n",
    "    }\n",
    "    return item_names.get(choice)\n"
   ]
  },
  {
   "cell_type": "code",
   "execution_count": 43,
   "id": "92727e40-6295-48dd-aac3-c6011384c5f6",
   "metadata": {
    "editable": true,
    "slideshow": {
     "slide_type": ""
    },
    "tags": []
   },
   "outputs": [],
   "source": [
    "# PLEASE DO NOT MODIFY THIS CELL\n",
    "assert get_item_name(1) == 'Pizza'\n",
    "assert get_item_name(2) == 'Burger'\n",
    "assert get_item_name(3) == 'Noodles'\n"
   ]
  },
  {
   "cell_type": "code",
   "execution_count": 44,
   "id": "4c109d44-9dbb-4257-b56c-ec3c68f28670",
   "metadata": {
    "editable": true,
    "slideshow": {
     "slide_type": ""
    },
    "tags": []
   },
   "outputs": [],
   "source": [
    "def get_item_price(choice):\n",
    "    \"\"\"\n",
    "    Description: Retrieves and returns the price of a food item based on \n",
    "    the user's choice number from the menu.\n",
    "    \"\"\"\n",
    "    # YOUR CODE HERE\n",
    "    item_prices = {\n",
    "        1: 6500,\n",
    "        2: 3000,\n",
    "        3: 1300\n",
    "    }\n",
    "    return item_prices.get(choice)\n"
   ]
  },
  {
   "cell_type": "code",
   "execution_count": 45,
   "id": "ac0bc0ee-4a38-438e-a274-ad39a525f6c1",
   "metadata": {
    "editable": true,
    "slideshow": {
     "slide_type": ""
    },
    "tags": []
   },
   "outputs": [],
   "source": [
    "# PLEASE DO NOT MODIFY THIS CELL\n",
    "assert get_item_price(1) == 6500\n",
    "assert get_item_price(2) == 3000\n",
    "assert get_item_price(3) == 1300\n"
   ]
  },
  {
   "cell_type": "code",
   "execution_count": 46,
   "id": "2d9a0d51-019f-430f-ba5a-aff4d05b5003",
   "metadata": {
    "editable": true,
    "slideshow": {
     "slide_type": ""
    },
    "tags": []
   },
   "outputs": [],
   "source": [
    "def calculate_total_price(item_price, quantity):\n",
    "    \"\"\"\n",
    "    Description: Calculates and returns the total price of a specific food item \n",
    "    based on its price and the quantity ordered.\n",
    "    \"\"\"\n",
    "    return item_price * quantity\n"
   ]
  },
  {
   "cell_type": "code",
   "execution_count": 47,
   "id": "4e09575d-176f-4b02-8c08-a501e0431d9a",
   "metadata": {
    "editable": true,
    "slideshow": {
     "slide_type": ""
    },
    "tags": []
   },
   "outputs": [],
   "source": [
    "# PLEASE DO NOT MODIFY THIS CELL\n",
    "assert calculate_total_price(5, 2) == 10\n"
   ]
  },
  {
   "cell_type": "code",
   "execution_count": 48,
   "id": "151588b1-8f12-4cca-a370-f9aed33e3631",
   "metadata": {
    "editable": true,
    "slideshow": {
     "slide_type": ""
    },
    "tags": []
   },
   "outputs": [],
   "source": [
    "def place_order():\n",
    "    cart = {}\n",
    "    while True:\n",
    "        display_menu()\n",
    "        choice = get_user_choice()\n",
    "        if choice is None:\n",
    "            break\n",
    "\n",
    "        item_name = get_item_name(choice)\n",
    "        item_price = get_item_price(choice)\n",
    "        quantity = get_quantity()\n",
    "        total_price = calculate_total_price(item_price, quantity)\n",
    "\n",
    "        if item_name in cart:\n",
    "            cart[item_name]['quantity'] += quantity\n",
    "            cart[item_name]['total_price'] += total_price\n",
    "        else:\n",
    "            cart[item_name] = {\n",
    "                'quantity': quantity,\n",
    "                'total_price': total_price\n",
    "            }\n",
    "\n",
    "    return cart"
   ]
  },
  {
   "cell_type": "code",
   "execution_count": 49,
   "id": "c0ffe5de-8158-4c01-8482-5411029ad868",
   "metadata": {
    "editable": true,
    "slideshow": {
     "slide_type": ""
    },
    "tags": []
   },
   "outputs": [
    {
     "name": "stdout",
     "output_type": "stream",
     "text": [
      "Menu:\n",
      "1. Pizza - 6500\n",
      "2. Burger - 3000\n",
      "3. Noodles - 1300\n",
      "4. Exit Menu\n",
      "Menu:\n",
      "1. Pizza - 6500\n",
      "2. Burger - 3000\n",
      "3. Noodles - 1300\n",
      "4. Exit Menu\n",
      "Menu:\n",
      "1. Pizza - 6500\n",
      "2. Burger - 3000\n",
      "3. Noodles - 1300\n",
      "4. Exit Menu\n"
     ]
    }
   ],
   "source": [
    "# PLEASE DO NOT MODIFY THIS CELL\n",
    "class TestPlaceOrder(unittest.TestCase):\n",
    "    @patch('__main__.get_user_choice', side_effect=[1, 2, None])\n",
    "    @patch('__main__.get_quantity', return_value=3)\n",
    "    def test_place_order(self, mock_get_quantity, mock_get_user_choice):\n",
    "        result = place_order()\n",
    "        expected_result = {\n",
    "            'Pizza': {'quantity': 3, 'total_price': 19500},\n",
    "            'Burger': {'quantity': 3, 'total_price': 9000}\n",
    "        }\n",
    "        self.assertEqual(result, expected_result)\n",
    "        self.assertEqual(mock_get_user_choice.call_count, 3)\n",
    "        self.assertEqual(mock_get_quantity.call_count, 2)\n",
    "\n",
    "tester = TestPlaceOrder()\n",
    "tester.test_place_order()\n"
   ]
  },
  {
   "cell_type": "code",
   "execution_count": 50,
   "id": "05ee5325-b429-4ce0-a1ba-2f3826466042",
   "metadata": {
    "editable": true,
    "slideshow": {
     "slide_type": ""
    },
    "tags": []
   },
   "outputs": [],
   "source": [
    "def check_out(cart):\n",
    "    \"\"\"\n",
    "    Description: Finalizes the order by displaying the contents of the shopping cart, including quantities and total prices.\n",
    "                 Prints the total order price like a receipt.\n",
    "\n",
    "                 The reciept would look like this if the cart is empty\n",
    "                 \n",
    "                     Your cart is empty. No items to check out.\n",
    "\n",
    "\n",
    "                 If the Cart is has items in it then the receipt should look exactly like this\n",
    "\n",
    "                     Checking out...\n",
    "                     Your order details:\n",
    "                     Item 1: Quantity - 2, Total Price - 2000\n",
    "                     Item 2: Quantity - 3, Total Price - 1500\n",
    "                     Total Order Price: 3500\n",
    "                     Thank you for ordering!\n",
    "    \"\"\"\n",
    "    # YOUR CODE HERE\n",
    "    if not cart:\n",
    "        print(\"Your cart is empty. No items to check out.\")\n",
    "        return\n",
    "\n",
    "    print(\"Checking out...\")\n",
    "    print(\"Your order details:\")\n",
    "    total_order_price = 0\n",
    "    item_num = 1\n",
    "\n",
    "    for item, details in cart.items():\n",
    "        print(f\"Item {item_num}: Quantity - {details['quantity']}, Total Price - {details['total_price']}\")\n",
    "        total_order_price += details['total_price']\n",
    "        item_num += 1\n",
    "\n",
    "    print(f\"Total Order Price: {total_order_price}\")\n",
    "    print(\"Thank you for ordering!\")\n"
   ]
  },
  {
   "cell_type": "code",
   "execution_count": 51,
   "id": "880fd1ef-ced7-4f59-9f0a-9d6534390b47",
   "metadata": {
    "editable": true,
    "slideshow": {
     "slide_type": ""
    },
    "tags": []
   },
   "outputs": [],
   "source": [
    "# PLEASE DO NOT MODIFY THIS CELL\n",
    "class TestCheckOut(unittest.TestCase):\n",
    "    @patch('builtins.print')\n",
    "    def test_check_out_empty_cart(self, mock_print):\n",
    "        cart = {}\n",
    "        check_out(cart)\n",
    "        mock_print.assert_called_with(\"Your cart is empty. No items to check out.\")\n",
    "\n",
    "    @patch('builtins.print')\n",
    "    def test_check_out_non_empty_cart(self, mock_print):\n",
    "        cart = {\n",
    "            'Item 1': {'quantity': 2, 'total_price': 20},\n",
    "            'Item 2': {'quantity': 3, 'total_price': 15}\n",
    "        }\n",
    "        check_out(cart)\n",
    "\n",
    "        expected_output_1 = [\n",
    "            \"Checking out...\",\n",
    "            \"Your order details:\",\n",
    "            \"Item 1: Quantity - 2, Total Price - $20\",\n",
    "            \"Item 2: Quantity - 3, Total Price - $15\",\n",
    "            \"Total Order Price: $35\",\n",
    "            \"Thank you for ordering!\"\n",
    "        ]\n",
    "\n",
    "        expected_output_2 = [\n",
    "            \"Checking out...\",\n",
    "            \"Your order details:\",\n",
    "            \"Item 1: Quantity - 2, Total Price - 20\",\n",
    "            \"Item 2: Quantity - 3, Total Price - 15\",\n",
    "            \"Total Order Price: 35\",\n",
    "            \"Thank you for ordering!\"\n",
    "        ]\n",
    "\n",
    "        calls_1 = [unittest.mock.call(output) for output in expected_output_1]\n",
    "        calls_2 = [unittest.mock.call(output) for output in expected_output_2]\n",
    "\n",
    "        try:\n",
    "            mock_print.assert_has_calls(calls_1, any_order=False)\n",
    "        except AssertionError:\n",
    "            mock_print.assert_has_calls(calls_2, any_order=False)\n",
    "\n",
    "tester = TestCheckOut()\n",
    "tester.test_check_out_empty_cart()\n",
    "tester.test_check_out_non_empty_cart()\n"
   ]
  },
  {
   "cell_type": "code",
   "execution_count": 52,
   "id": "95ef1f61-fdd6-4ffb-ab10-8ea2f89820ed",
   "metadata": {
    "editable": true,
    "slideshow": {
     "slide_type": ""
    },
    "tags": []
   },
   "outputs": [],
   "source": [
    "def food_ordering_app():\n",
    "    \"\"\"\n",
    "    Description: The main function that initiates the food ordering application.\n",
    "                 Calls place_order() to build the shopping cart and then calls check_out() to complete the order.\n",
    "\n",
    "                 NOTE THAT IF ANY OF THE OTHER FUNCTIONS ARE NOT CORRECTLY WRITTEN THIS WILL FAIL\n",
    "                 PLEASE DO NOT MODIFY THIS CELL\n",
    "    \"\"\"\n",
    "    #YOUR CODE HERE\n",
    "    print(\"Welcome to the Food Ordering App!\")\n",
    "    cart = place_order()\n",
    "    check_out(cart)\n"
   ]
  },
  {
   "cell_type": "code",
   "execution_count": 53,
   "id": "d93cf4c4-48d7-4589-8cb0-6b98dd20bedf",
   "metadata": {
    "editable": true,
    "slideshow": {
     "slide_type": ""
    },
    "tags": []
   },
   "outputs": [
    {
     "name": "stdout",
     "output_type": "stream",
     "text": [
      "Welcome to the Food Ordering App!\n",
      "Menu:\n",
      "1. Pizza - 6500\n",
      "2. Burger - 3000\n",
      "3. Noodles - 1300\n",
      "4. Exit Menu\n"
     ]
    },
    {
     "name": "stdin",
     "output_type": "stream",
     "text": [
      "Enter your choice (1-4):  1\n",
      "Enter quantity:  2\n"
     ]
    },
    {
     "name": "stdout",
     "output_type": "stream",
     "text": [
      "Menu:\n",
      "1. Pizza - 6500\n",
      "2. Burger - 3000\n",
      "3. Noodles - 1300\n",
      "4. Exit Menu\n"
     ]
    },
    {
     "name": "stdin",
     "output_type": "stream",
     "text": [
      "Enter your choice (1-4):  3\n",
      "Enter quantity:  2\n"
     ]
    },
    {
     "name": "stdout",
     "output_type": "stream",
     "text": [
      "Menu:\n",
      "1. Pizza - 6500\n",
      "2. Burger - 3000\n",
      "3. Noodles - 1300\n",
      "4. Exit Menu\n"
     ]
    },
    {
     "name": "stdin",
     "output_type": "stream",
     "text": [
      "Enter your choice (1-4):  2\n",
      "Enter quantity:  3\n"
     ]
    },
    {
     "name": "stdout",
     "output_type": "stream",
     "text": [
      "Menu:\n",
      "1. Pizza - 6500\n",
      "2. Burger - 3000\n",
      "3. Noodles - 1300\n",
      "4. Exit Menu\n"
     ]
    },
    {
     "name": "stdin",
     "output_type": "stream",
     "text": [
      "Enter your choice (1-4):  4\n"
     ]
    },
    {
     "name": "stdout",
     "output_type": "stream",
     "text": [
      "Checking out...\n",
      "Your order details:\n",
      "Item 1: Quantity - 2, Total Price - 13000\n",
      "Item 2: Quantity - 2, Total Price - 2600\n",
      "Item 3: Quantity - 3, Total Price - 9000\n",
      "Total Order Price: 24600\n",
      "Thank you for ordering!\n"
     ]
    }
   ],
   "source": [
    "food_ordering_app()"
   ]
  },
  {
   "cell_type": "code",
   "execution_count": 54,
   "id": "b2155eaf-6bdb-4296-8942-f594c0177dc1",
   "metadata": {
    "editable": true,
    "slideshow": {
     "slide_type": ""
    },
    "tags": []
   },
   "outputs": [],
   "source": [
    "# PLEASE DO NOT MODIFY THIS CELL\n",
    "class TestFoodOrderingApp(unittest.TestCase):\n",
    "    @patch('builtins.print')\n",
    "    @patch('__main__.place_order', return_value={'Item 1': {'quantity': 2, 'total_price': 20}})\n",
    "    @patch('__main__.check_out')\n",
    "    def test_food_ordering_app(self, mock_check_out, mock_place_order, mock_print):\n",
    "        food_ordering_app()\n",
    "        mock_print.assert_called_with(\"Welcome to the Food Ordering App!\")\n",
    "        mock_place_order.assert_called_once()\n",
    "        mock_check_out.assert_called_once()\n",
    "\n",
    "tester = TestFoodOrderingApp()\n",
    "tester.test_food_ordering_app()\n"
   ]
  },
  {
   "cell_type": "code",
   "execution_count": null,
   "id": "970d3b9c-f3e1-4a4b-92b1-91e4b23ee779",
   "metadata": {
    "editable": true,
    "slideshow": {
     "slide_type": ""
    },
    "tags": []
   },
   "outputs": [],
   "source": []
  }
 ],
 "metadata": {
  "kernelspec": {
   "display_name": "anaconda-panel-2023.05-py310",
   "language": "python",
   "name": "conda-env-anaconda-panel-2023.05-py310-py"
  },
  "language_info": {
   "codemirror_mode": {
    "name": "ipython",
    "version": 3
   },
   "file_extension": ".py",
   "mimetype": "text/x-python",
   "name": "python",
   "nbconvert_exporter": "python",
   "pygments_lexer": "ipython3",
   "version": "3.11.5"
  }
 },
 "nbformat": 4,
 "nbformat_minor": 5
}
